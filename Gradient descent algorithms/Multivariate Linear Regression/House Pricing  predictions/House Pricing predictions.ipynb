{
 "cells": [
  {
   "cell_type": "code",
   "execution_count": null,
   "id": "6f47f25d-7dd1-441e-9a8e-87cf0f14ea3c",
   "metadata": {},
   "outputs": [],
   "source": []
  },
  {
   "cell_type": "code",
   "execution_count": null,
   "id": "697841f7-3fa6-4b74-b77c-b5adc584d3ce",
   "metadata": {},
   "outputs": [],
   "source": []
  },
  {
   "cell_type": "code",
   "execution_count": null,
   "id": "061298b3-a23d-4f8b-99f0-2221d7997c4a",
   "metadata": {},
   "outputs": [],
   "source": [
    "# Create the dataset\n",
    "data = {\n",
    "    'Bedrooms': [3, 4, 2, 3, 5, 3, 4, 2, 5, 3],\n",
    "    'Bathrooms': [2, 3, 1, 2, 4, 2.5, 3, 1.5, 4, 2],\n",
    "    'Square Footage': [1500, 2000, 900, 1600, 3000, 1700, 2200, 1200, 2800, 1500],\n",
    "    'Location Rating': [4, 5, 3, 4, 5, 4, 4, 3, 5, 4],\n",
    "    'Age of House': [10, 5, 20, 8, 2, 7, 6, 12, 3, 10],\n",
    "    'Price': [250000, 450000, 150000, 280000, 600000, 320000, 480000, 210000, 550000, 290000]\n",
    "}"
   ]
  }
 ],
 "metadata": {
  "kernelspec": {
   "display_name": "Python 3 (ipykernel)",
   "language": "python",
   "name": "python3"
  },
  "language_info": {
   "codemirror_mode": {
    "name": "ipython",
    "version": 3
   },
   "file_extension": ".py",
   "mimetype": "text/x-python",
   "name": "python",
   "nbconvert_exporter": "python",
   "pygments_lexer": "ipython3",
   "version": "3.11.8"
  }
 },
 "nbformat": 4,
 "nbformat_minor": 5
}
